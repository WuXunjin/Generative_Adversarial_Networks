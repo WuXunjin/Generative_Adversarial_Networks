{
 "cells": [
  {
   "cell_type": "code",
   "execution_count": 33,
   "metadata": {
    "collapsed": true
   },
   "outputs": [],
   "source": [
    "import torch\n",
    "import torch.nn as nn\n",
    "import torch.nn.functional as F\n",
    "from torch.autograd import Variable\n",
    "import torch.optim as optim\n",
    "from torchvision import datasets, transforms\n",
    "import numpy as np\n",
    "import matplotlib.pyplot as plt\n",
    "import matplotlib.gridspec as gridspec\n",
    "import os"
   ]
  },
  {
   "cell_type": "code",
   "execution_count": 34,
   "metadata": {},
   "outputs": [],
   "source": [
    "# set the min batch size\n",
    "mb_size = 64\n",
    "# the number of samples to take from a random distribution\n",
    "Z_dim = 100\n",
    "\n",
    "# The number of training examples\n",
    "X_dim = 28*28\n",
    "\n",
    "# The size of hidden layer\n",
    "h_dim = 128\n",
    "\n",
    "# Set the initial cost to zero\n",
    "c = 0\n",
    "\n",
    "# Set the learning rate\n",
    "lr = 1e-3"
   ]
  },
  {
   "cell_type": "code",
   "execution_count": 35,
   "metadata": {
    "collapsed": true
   },
   "outputs": [],
   "source": [
    "dataloader = torch.utils.data.DataLoader(\n",
    "    datasets.MNIST('../../MNIST_data', train=True, download=True,\n",
    "                  transform=transforms.Compose([\n",
    "                      transforms.ToTensor()\n",
    "                  ])),\n",
    "    batch_size=mb_size, shuffle=True\n",
    ")    "
   ]
  },
  {
   "cell_type": "markdown",
   "metadata": {},
   "source": [
    "### Weights Initialization function"
   ]
  },
  {
   "cell_type": "code",
   "execution_count": 36,
   "metadata": {
    "collapsed": true
   },
   "outputs": [],
   "source": [
    "# Lets define the 'Xavier Initialization function'\n",
    "def xavier_init(m):\n",
    "    classname = m.__class__.__name__\n",
    "    if classname.find('Linear') != -1:\n",
    "        in_dim = m.weight.data.size()[1]\n",
    "        xavier_stddev = 1. / np.sqrt(in_dim / 2.)\n",
    "        m.weight.data.normal_(0.0, xavier_stddev)\n",
    "        m.bias.data.fill_(0)"
   ]
  },
  {
   "cell_type": "markdown",
   "metadata": {},
   "source": [
    "### Define the models"
   ]
  },
  {
   "cell_type": "markdown",
   "metadata": {},
   "source": [
    "#### Generator Network"
   ]
  },
  {
   "cell_type": "code",
   "execution_count": 37,
   "metadata": {
    "collapsed": true
   },
   "outputs": [],
   "source": [
    "#Generator Network\n",
    "class Generator(nn.Module):\n",
    "    \n",
    "    def __init__(self):\n",
    "        super(Generator, self).__init__()\n",
    "        \n",
    "        self.main = nn.Sequential(\n",
    "            nn.Linear(Z_dim, h_dim),\n",
    "            nn.ReLU(True),\n",
    "            nn.Linear(h_dim, X_dim),\n",
    "            nn.Sigmoid()\n",
    "        )\n",
    "        \n",
    "    def forward(self, x):\n",
    "        output = self.main(x)\n",
    "        \n",
    "        return output"
   ]
  },
  {
   "cell_type": "markdown",
   "metadata": {},
   "source": [
    "#### Discriminator Network"
   ]
  },
  {
   "cell_type": "code",
   "execution_count": 38,
   "metadata": {
    "collapsed": true
   },
   "outputs": [],
   "source": [
    "#Discriminator Network\n",
    "class Discriminator(nn.Module):\n",
    "    \n",
    "    def __init__(self):\n",
    "        super(Discriminator, self).__init__()\n",
    "        \n",
    "        self.main = nn.Sequential(\n",
    "            nn.Linear(X_dim, h_dim),\n",
    "            nn.ReLU(True),\n",
    "            nn.Linear(h_dim, 1),\n",
    "            nn.Sigmoid()\n",
    "        )\n",
    "        \n",
    "    def forward(self, x):\n",
    "        output = self.main(x)\n",
    "        \n",
    "        return output"
   ]
  },
  {
   "cell_type": "code",
   "execution_count": 39,
   "metadata": {
    "collapsed": true
   },
   "outputs": [],
   "source": [
    "#Get instance of both classes\n",
    "G = Generator()\n",
    "D = Discriminator()"
   ]
  },
  {
   "cell_type": "code",
   "execution_count": 40,
   "metadata": {},
   "outputs": [
    {
     "data": {
      "text/plain": [
       "Discriminator (\n",
       "  (main): Sequential (\n",
       "    (0): Linear (784 -> 128)\n",
       "    (1): ReLU (inplace)\n",
       "    (2): Linear (128 -> 1)\n",
       "    (3): Sigmoid ()\n",
       "  )\n",
       ")"
      ]
     },
     "execution_count": 40,
     "metadata": {},
     "output_type": "execute_result"
    }
   ],
   "source": [
    "# Apply custom weights\n",
    "G.apply(xavier_init)\n",
    "D.apply(xavier_init)"
   ]
  },
  {
   "cell_type": "code",
   "execution_count": 52,
   "metadata": {
    "collapsed": true
   },
   "outputs": [],
   "source": [
    "# Get parameters\n",
    "G_params = G.parameters()\n",
    "D_params = D.parameters()"
   ]
  },
  {
   "cell_type": "code",
   "execution_count": 53,
   "metadata": {
    "collapsed": true
   },
   "outputs": [],
   "source": [
    "# Reset gradients for Generator and Discriminator\n",
    "def reset_grad():\n",
    "    G.zero_grad()\n",
    "    D.zero_grad()"
   ]
  },
  {
   "cell_type": "code",
   "execution_count": 54,
   "metadata": {},
   "outputs": [
    {
     "data": {
      "text/plain": [
       "\n",
       "    0\n",
       "    0\n",
       "    0\n",
       "    0\n",
       "    0\n",
       "    0\n",
       "    0\n",
       "    0\n",
       "    0\n",
       "    0\n",
       "    0\n",
       "    0\n",
       "    0\n",
       "    0\n",
       "    0\n",
       "    0\n",
       "    0\n",
       "    0\n",
       "    0\n",
       "    0\n",
       "    0\n",
       "    0\n",
       "    0\n",
       "    0\n",
       "    0\n",
       "    0\n",
       "    0\n",
       "    0\n",
       "    0\n",
       "    0\n",
       "    0\n",
       "    0\n",
       "    0\n",
       "    0\n",
       "    0\n",
       "    0\n",
       "    0\n",
       "    0\n",
       "    0\n",
       "    0\n",
       "    0\n",
       "    0\n",
       "    0\n",
       "    0\n",
       "    0\n",
       "    0\n",
       "    0\n",
       "    0\n",
       "    0\n",
       "    0\n",
       "    0\n",
       "    0\n",
       "    0\n",
       "    0\n",
       "    0\n",
       "    0\n",
       "    0\n",
       "    0\n",
       "    0\n",
       "    0\n",
       "    0\n",
       "    0\n",
       "    0\n",
       "    0\n",
       "[torch.FloatTensor of size 64x1]"
      ]
     },
     "execution_count": 54,
     "metadata": {},
     "output_type": "execute_result"
    }
   ],
   "source": [
    "# Define loss\n",
    "criterion = nn.BCEWithLogitsLoss()\n",
    "\n",
    "# Declare the optimizers for generator\n",
    "G_solver = optim.Adam(G_params, lr=1e-3)\n",
    "\n",
    "# Declare the optimizers for discriminator\n",
    "D_solver = optim.Adam(D_params, lr=1e-3)\n",
    "\n",
    "\n",
    "# The targets for the discriminator.\n",
    "# Zeros for the samples coming from generator and one for the data coming from sample space\n",
    "ones_label = Variable(torch.ones(mb_size))\n",
    "zeros_label = Variable(torch.zeros(mb_size))\n",
    "\n",
    "# resize to fit loss criterion\n",
    "ones_label.data.resize_([mb_size, 1]);\n",
    "zeros_label.data.resize_([mb_size, 1]);"
   ]
  },
  {
   "cell_type": "code",
   "execution_count": 47,
   "metadata": {},
   "outputs": [
    {
     "name": "stdout",
     "output_type": "stream",
     "text": [
      "Epoch-1; D_loss: [ 1.43370759]; G_loss: [ 0.64513367]\n",
      "Epoch-2; D_loss: [ 1.02578509]; G_loss: [ 0.69298655]\n",
      "Epoch-3; D_loss: [ 1.00927448]; G_loss: [ 0.69255751]\n",
      "Epoch-4; D_loss: [ 1.00726271]; G_loss: [ 0.69293177]\n",
      "Epoch-5; D_loss: [ 1.01148951]; G_loss: [ 0.69060647]\n",
      "Epoch-6; D_loss: [ 1.04470837]; G_loss: [ 0.68158072]\n",
      "Epoch-7; D_loss: [ 1.03306389]; G_loss: [ 0.68721068]\n",
      "Epoch-8; D_loss: [ 1.01794529]; G_loss: [ 0.69048846]\n",
      "Epoch-9; D_loss: [ 1.04941773]; G_loss: [ 0.68066329]\n",
      "Epoch-10; D_loss: [ 1.09308434]; G_loss: [ 0.67704278]\n",
      "Epoch-11; D_loss: [ 1.07191873]; G_loss: [ 0.67322481]\n",
      "Epoch-12; D_loss: [ 1.08595681]; G_loss: [ 0.67933929]\n",
      "Epoch-13; D_loss: [ 1.07402396]; G_loss: [ 0.68219399]\n",
      "Epoch-14; D_loss: [ 1.11147511]; G_loss: [ 0.6742366]\n",
      "Epoch-15; D_loss: [ 1.13133061]; G_loss: [ 0.66505909]\n",
      "Epoch-16; D_loss: [ 1.08515978]; G_loss: [ 0.66827238]\n",
      "Epoch-17; D_loss: [ 1.21932459]; G_loss: [ 0.66921216]\n",
      "Epoch-18; D_loss: [ 1.17118573]; G_loss: [ 0.6657505]\n",
      "Epoch-19; D_loss: [ 1.22945201]; G_loss: [ 0.65132624]\n",
      "Epoch-20; D_loss: [ 1.21779752]; G_loss: [ 0.6631512]\n",
      "Epoch-21; D_loss: [ 1.2073952]; G_loss: [ 0.65831888]\n",
      "Epoch-22; D_loss: [ 1.25036979]; G_loss: [ 0.62225521]\n",
      "Epoch-23; D_loss: [ 1.23793066]; G_loss: [ 0.65928572]\n",
      "Epoch-24; D_loss: [ 1.17266643]; G_loss: [ 0.66262007]\n",
      "Epoch-25; D_loss: [ 1.1851933]; G_loss: [ 0.63972485]\n",
      "Epoch-26; D_loss: [ 1.19141817]; G_loss: [ 0.64248574]\n",
      "Epoch-27; D_loss: [ 1.1900667]; G_loss: [ 0.65854681]\n",
      "Epoch-28; D_loss: [ 1.19183362]; G_loss: [ 0.66755807]\n",
      "Epoch-29; D_loss: [ 1.21488214]; G_loss: [ 0.64198017]\n",
      "Epoch-30; D_loss: [ 1.25378609]; G_loss: [ 0.6556766]\n",
      "Epoch-31; D_loss: [ 1.19850802]; G_loss: [ 0.6283682]\n",
      "Epoch-32; D_loss: [ 1.19181716]; G_loss: [ 0.64735997]\n",
      "Epoch-33; D_loss: [ 1.18210816]; G_loss: [ 0.63735563]\n",
      "Epoch-34; D_loss: [ 1.18940544]; G_loss: [ 0.66330349]\n",
      "Epoch-35; D_loss: [ 1.161834]; G_loss: [ 0.65556329]\n",
      "Epoch-36; D_loss: [ 1.18523502]; G_loss: [ 0.67162579]\n",
      "Epoch-37; D_loss: [ 1.20197034]; G_loss: [ 0.64464855]\n",
      "Epoch-38; D_loss: [ 1.15572858]; G_loss: [ 0.64796996]\n",
      "Epoch-39; D_loss: [ 1.19080091]; G_loss: [ 0.65545553]\n",
      "Epoch-40; D_loss: [ 1.14871311]; G_loss: [ 0.6576547]\n",
      "Epoch-41; D_loss: [ 1.16757083]; G_loss: [ 0.65523827]\n",
      "Epoch-42; D_loss: [ 1.19111323]; G_loss: [ 0.64947987]\n",
      "Epoch-43; D_loss: [ 1.13839483]; G_loss: [ 0.67872065]\n",
      "Epoch-44; D_loss: [ 1.15947628]; G_loss: [ 0.64319891]\n",
      "Epoch-45; D_loss: [ 1.13991034]; G_loss: [ 0.64363021]\n",
      "Epoch-46; D_loss: [ 1.18161011]; G_loss: [ 0.63985306]\n",
      "Epoch-47; D_loss: [ 1.16423798]; G_loss: [ 0.67066109]\n",
      "Epoch-48; D_loss: [ 1.17744541]; G_loss: [ 0.66506761]\n",
      "Epoch-49; D_loss: [ 1.21931481]; G_loss: [ 0.62874418]\n",
      "Epoch-50; D_loss: [ 1.18206787]; G_loss: [ 0.65744346]\n",
      "Epoch-51; D_loss: [ 1.17609942]; G_loss: [ 0.68419302]\n",
      "Epoch-52; D_loss: [ 1.15006256]; G_loss: [ 0.63160002]\n",
      "Epoch-53; D_loss: [ 1.15222061]; G_loss: [ 0.65702623]\n",
      "Epoch-54; D_loss: [ 1.14490759]; G_loss: [ 0.63315094]\n",
      "Epoch-55; D_loss: [ 1.1935699]; G_loss: [ 0.65178829]\n",
      "Epoch-56; D_loss: [ 1.1894201]; G_loss: [ 0.65632844]\n",
      "Epoch-57; D_loss: [ 1.16559649]; G_loss: [ 0.67309374]\n",
      "Epoch-58; D_loss: [ 1.20023382]; G_loss: [ 0.67300653]\n",
      "Epoch-59; D_loss: [ 1.12861359]; G_loss: [ 0.66229975]\n",
      "Epoch-60; D_loss: [ 1.11693287]; G_loss: [ 0.64833081]\n",
      "Epoch-61; D_loss: [ 1.18657136]; G_loss: [ 0.63900787]\n",
      "Epoch-62; D_loss: [ 1.17651129]; G_loss: [ 0.61522788]\n",
      "Epoch-63; D_loss: [ 1.16798472]; G_loss: [ 0.67370069]\n",
      "Epoch-64; D_loss: [ 1.09237456]; G_loss: [ 0.68376899]\n",
      "Epoch-65; D_loss: [ 1.17223144]; G_loss: [ 0.67150372]\n",
      "Epoch-66; D_loss: [ 1.1753912]; G_loss: [ 0.65748286]\n",
      "Epoch-67; D_loss: [ 1.16922569]; G_loss: [ 0.66295874]\n",
      "Epoch-68; D_loss: [ 1.16044807]; G_loss: [ 0.6591273]\n",
      "Epoch-69; D_loss: [ 1.1587919]; G_loss: [ 0.65952128]\n",
      "Epoch-70; D_loss: [ 1.2173512]; G_loss: [ 0.67323864]\n",
      "Epoch-71; D_loss: [ 1.16272843]; G_loss: [ 0.67174345]\n",
      "Epoch-72; D_loss: [ 1.19713664]; G_loss: [ 0.64773405]\n",
      "Epoch-73; D_loss: [ 1.16104329]; G_loss: [ 0.65862143]\n",
      "Epoch-74; D_loss: [ 1.15231848]; G_loss: [ 0.64307219]\n",
      "Epoch-75; D_loss: [ 1.14886081]; G_loss: [ 0.6682725]\n",
      "Epoch-76; D_loss: [ 1.10822439]; G_loss: [ 0.63034993]\n",
      "Epoch-77; D_loss: [ 1.13010669]; G_loss: [ 0.64041054]\n",
      "Epoch-78; D_loss: [ 1.15492368]; G_loss: [ 0.65314412]\n",
      "Epoch-79; D_loss: [ 1.10743487]; G_loss: [ 0.63064736]\n",
      "Epoch-80; D_loss: [ 1.10969222]; G_loss: [ 0.67564195]\n",
      "Epoch-81; D_loss: [ 1.22137856]; G_loss: [ 0.65113974]\n",
      "Epoch-82; D_loss: [ 1.11860657]; G_loss: [ 0.67515332]\n",
      "Epoch-83; D_loss: [ 1.11685085]; G_loss: [ 0.6380583]\n",
      "Epoch-84; D_loss: [ 1.09601462]; G_loss: [ 0.66878104]\n",
      "Epoch-85; D_loss: [ 1.09703827]; G_loss: [ 0.66143256]\n",
      "Epoch-86; D_loss: [ 1.11590898]; G_loss: [ 0.6692757]\n",
      "Epoch-87; D_loss: [ 1.12316942]; G_loss: [ 0.62413955]\n",
      "Epoch-88; D_loss: [ 1.11778545]; G_loss: [ 0.67314118]\n",
      "Epoch-89; D_loss: [ 1.16135597]; G_loss: [ 0.65456098]\n",
      "Epoch-90; D_loss: [ 1.14876676]; G_loss: [ 0.65629125]\n",
      "Epoch-91; D_loss: [ 1.09537768]; G_loss: [ 0.62882328]\n",
      "Epoch-92; D_loss: [ 1.14548552]; G_loss: [ 0.65110987]\n",
      "Epoch-93; D_loss: [ 1.14144397]; G_loss: [ 0.65469337]\n",
      "Epoch-94; D_loss: [ 1.1656065]; G_loss: [ 0.64275426]\n",
      "Epoch-95; D_loss: [ 1.12862575]; G_loss: [ 0.65292859]\n",
      "Epoch-96; D_loss: [ 1.1689384]; G_loss: [ 0.66726202]\n",
      "Epoch-97; D_loss: [ 1.10784721]; G_loss: [ 0.65797991]\n",
      "Epoch-98; D_loss: [ 1.11549461]; G_loss: [ 0.66436249]\n",
      "Epoch-99; D_loss: [ 1.15580535]; G_loss: [ 0.67870736]\n",
      "Epoch-100; D_loss: [ 1.15799105]; G_loss: [ 0.67738128]\n",
      "Epoch-101; D_loss: [ 1.12209392]; G_loss: [ 0.66622359]\n",
      "Epoch-102; D_loss: [ 1.11099362]; G_loss: [ 0.66067713]\n",
      "Epoch-103; D_loss: [ 1.11245072]; G_loss: [ 0.65803099]\n",
      "Epoch-104; D_loss: [ 1.12254107]; G_loss: [ 0.65146363]\n",
      "Epoch-105; D_loss: [ 1.13478863]; G_loss: [ 0.64456004]\n",
      "Epoch-106; D_loss: [ 1.1011008]; G_loss: [ 0.68063235]\n",
      "Epoch-107; D_loss: [ 1.13805497]; G_loss: [ 0.65941167]\n"
     ]
    },
    {
     "ename": "KeyboardInterrupt",
     "evalue": "",
     "output_type": "error",
     "traceback": [
      "\u001b[0;31m---------------------------------------------------------------------------\u001b[0m",
      "\u001b[0;31mKeyboardInterrupt\u001b[0m                         Traceback (most recent call last)",
      "\u001b[0;32m<ipython-input-47-ad27c622da00>\u001b[0m in \u001b[0;36m<module>\u001b[0;34m()\u001b[0m\n\u001b[1;32m     23\u001b[0m         \u001b[0mD_loss\u001b[0m \u001b[0;34m=\u001b[0m \u001b[0mD_loss_real\u001b[0m \u001b[0;34m+\u001b[0m \u001b[0mD_loss_fake\u001b[0m\u001b[0;34m\u001b[0m\u001b[0m\n\u001b[1;32m     24\u001b[0m \u001b[0;34m\u001b[0m\u001b[0m\n\u001b[0;32m---> 25\u001b[0;31m         \u001b[0mD_loss\u001b[0m\u001b[0;34m.\u001b[0m\u001b[0mbackward\u001b[0m\u001b[0;34m(\u001b[0m\u001b[0;34m)\u001b[0m\u001b[0;34m\u001b[0m\u001b[0m\n\u001b[0m\u001b[1;32m     26\u001b[0m         \u001b[0mD_solver\u001b[0m\u001b[0;34m.\u001b[0m\u001b[0mstep\u001b[0m\u001b[0;34m(\u001b[0m\u001b[0;34m)\u001b[0m\u001b[0;34m\u001b[0m\u001b[0m\n\u001b[1;32m     27\u001b[0m \u001b[0;34m\u001b[0m\u001b[0m\n",
      "\u001b[0;32m~/anaconda3/envs/pytorch/lib/python3.6/site-packages/torch/autograd/variable.py\u001b[0m in \u001b[0;36mbackward\u001b[0;34m(self, gradient, retain_graph, create_graph, retain_variables)\u001b[0m\n\u001b[1;32m    154\u001b[0m                 \u001b[0mVariable\u001b[0m\u001b[0;34m.\u001b[0m\u001b[0;34m\u001b[0m\u001b[0m\n\u001b[1;32m    155\u001b[0m         \"\"\"\n\u001b[0;32m--> 156\u001b[0;31m         \u001b[0mtorch\u001b[0m\u001b[0;34m.\u001b[0m\u001b[0mautograd\u001b[0m\u001b[0;34m.\u001b[0m\u001b[0mbackward\u001b[0m\u001b[0;34m(\u001b[0m\u001b[0mself\u001b[0m\u001b[0;34m,\u001b[0m \u001b[0mgradient\u001b[0m\u001b[0;34m,\u001b[0m \u001b[0mretain_graph\u001b[0m\u001b[0;34m,\u001b[0m \u001b[0mcreate_graph\u001b[0m\u001b[0;34m,\u001b[0m \u001b[0mretain_variables\u001b[0m\u001b[0;34m)\u001b[0m\u001b[0;34m\u001b[0m\u001b[0m\n\u001b[0m\u001b[1;32m    157\u001b[0m \u001b[0;34m\u001b[0m\u001b[0m\n\u001b[1;32m    158\u001b[0m     \u001b[0;32mdef\u001b[0m \u001b[0mregister_hook\u001b[0m\u001b[0;34m(\u001b[0m\u001b[0mself\u001b[0m\u001b[0;34m,\u001b[0m \u001b[0mhook\u001b[0m\u001b[0;34m)\u001b[0m\u001b[0;34m:\u001b[0m\u001b[0;34m\u001b[0m\u001b[0m\n",
      "\u001b[0;32m~/anaconda3/envs/pytorch/lib/python3.6/site-packages/torch/autograd/__init__.py\u001b[0m in \u001b[0;36mbackward\u001b[0;34m(variables, grad_variables, retain_graph, create_graph, retain_variables)\u001b[0m\n\u001b[1;32m     96\u001b[0m \u001b[0;34m\u001b[0m\u001b[0m\n\u001b[1;32m     97\u001b[0m     Variable._execution_engine.run_backward(\n\u001b[0;32m---> 98\u001b[0;31m         variables, grad_variables, retain_graph)\n\u001b[0m\u001b[1;32m     99\u001b[0m \u001b[0;34m\u001b[0m\u001b[0m\n\u001b[1;32m    100\u001b[0m \u001b[0;34m\u001b[0m\u001b[0m\n",
      "\u001b[0;31mKeyboardInterrupt\u001b[0m: "
     ]
    }
   ],
   "source": [
    "reset_grad()\n",
    "gen_loss = []\n",
    "dis_loss = []\n",
    "\n",
    "max_epoch = 100\n",
    "\n",
    "for epoch in range(1, max_epoch):\n",
    "    for it, (data, _) in enumerate(dataloader):\n",
    "        # Sample data\n",
    "        z = Variable(torch.randn(mb_size, Z_dim))\n",
    "        X = Variable(data.resize_([mb_size, X_dim]))\n",
    "        \n",
    "        #print(X.data.shape)\n",
    "        \n",
    "        # Dicriminator forward-loss-backward-update\n",
    "        G_sample = G(z)\n",
    "        D_real = D(X)\n",
    "        D_fake = D(G_sample)\n",
    "\n",
    "        D_loss_real = criterion(D_real, ones_label)\n",
    "        D_loss_fake = criterion(D_fake, zeros_label)\n",
    "        D_loss = D_loss_real + D_loss_fake\n",
    "\n",
    "        D_loss.backward()\n",
    "        D_solver.step()\n",
    "\n",
    "        # Housekeeping - reset gradient\n",
    "        reset_grad()\n",
    "\n",
    "        # Generator forward-loss-backward-update\n",
    "        z = Variable(torch.randn(mb_size, Z_dim))\n",
    "        G_sample = G(z)\n",
    "        D_fake = D(G_sample)\n",
    "\n",
    "        G_loss = criterion(D_fake, ones_label)\n",
    "\n",
    "        G_loss.backward()\n",
    "        G_solver.step()\n",
    "\n",
    "        # Housekeeping - reset gradient\n",
    "        reset_grad()\n",
    "        \n",
    "        # Print and plot every now and then\n",
    "        if it % 1000 == 0:\n",
    "            print('Epoch-{}; D_loss: {}; G_loss: {}'.format(epoch, D_loss.data.numpy(), G_loss.data.numpy()))\n",
    "            dis_loss.append(D_loss.data.numpy())\n",
    "            gen_loss.append(G_loss.data.numpy())\n",
    "\n",
    "            samples = G(z).data.numpy()[:16]\n",
    "\n",
    "            fig = plt.figure(figsize=(4, 4))\n",
    "            gs = gridspec.GridSpec(4, 4)\n",
    "            gs.update(wspace=0.05, hspace=0.05)\n",
    "\n",
    "            for i, sample in enumerate(samples):\n",
    "                ax = plt.subplot(gs[i])\n",
    "                plt.axis('off')\n",
    "                ax.set_xticklabels([])\n",
    "                ax.set_yticklabels([])\n",
    "                ax.set_aspect('equal')\n",
    "                plt.imshow(sample.reshape(28, 28), cmap='Greys_r')\n",
    "\n",
    "            plt.savefig('out-pytorch-gan/Epoch-{}.png'.format(str(epoch).zfill(3)), bbox_inches='tight')\n",
    "            c += 1\n",
    "            plt.close(fig)"
   ]
  },
  {
   "cell_type": "code",
   "execution_count": null,
   "metadata": {},
   "outputs": [
    {
     "name": "stdout",
     "output_type": "stream",
     "text": [
      "Epoch-1; D_loss: [ 1.38798165]; G_loss: [ 0.66994929]\n",
      "Epoch-2; D_loss: [ 1.62652373]; G_loss: [ 0.31326166]\n"
     ]
    }
   ],
   "source": [
    "reset_grad()\n",
    "gen_loss = []\n",
    "dis_loss = []\n",
    "\n",
    "max_epoch = 100\n",
    "\n",
    "for epoch in range(1, max_epoch):\n",
    "    for it, (data, _) in enumerate(dataloader):\n",
    "        # Sample data\n",
    "        z = Variable(torch.randn(mb_size, Z_dim))\n",
    "        X = Variable(data.resize_([mb_size, X_dim]))\n",
    "        \n",
    "        #print(X.data.shape)\n",
    "        \n",
    "        # Dicriminator forward-loss-backward-update\n",
    "        G_sample = G(z)\n",
    "        D_real = D(X)\n",
    "        D_fake = D(G_sample)\n",
    "\n",
    "        D_loss_real = criterion(D_real, ones_label)\n",
    "        D_loss_fake = criterion(D_fake, zeros_label)\n",
    "        D_loss = D_loss_real + D_loss_fake\n",
    "\n",
    "        D_loss.backward()\n",
    "        D_solver.step()\n",
    "\n",
    "        # Housekeeping - reset gradient\n",
    "        reset_grad()\n",
    "\n",
    "        # Generator forward-loss-backward-update\n",
    "        z = Variable(torch.randn(mb_size, Z_dim))\n",
    "        G_sample = G(z)\n",
    "        D_fake = D(G_sample)\n",
    "\n",
    "        G_loss = criterion(D_fake, ones_label)\n",
    "\n",
    "        G_loss.backward()\n",
    "        G_solver.step()\n",
    "\n",
    "        # Housekeeping - reset gradient\n",
    "        reset_grad()\n",
    "        \n",
    "        # Print and plot every now and then\n",
    "        if it % 1000 == 0:\n",
    "            print('Epoch-{}; D_loss: {}; G_loss: {}'.format(epoch, D_loss.data.numpy(), G_loss.data.numpy()))\n",
    "            dis_loss.append(D_loss.data.numpy())\n",
    "            gen_loss.append(G_loss.data.numpy())\n",
    "\n",
    "            samples = G(z).data.numpy()[:16]\n",
    "\n",
    "            fig = plt.figure(figsize=(4, 4))\n",
    "            gs = gridspec.GridSpec(4, 4)\n",
    "            gs.update(wspace=0.05, hspace=0.05)\n",
    "\n",
    "            for i, sample in enumerate(samples):\n",
    "                ax = plt.subplot(gs[i])\n",
    "                plt.axis('off')\n",
    "                ax.set_xticklabels([])\n",
    "                ax.set_yticklabels([])\n",
    "                ax.set_aspect('equal')\n",
    "                plt.imshow(sample.reshape(28, 28), cmap='Greys_r')\n",
    "\n",
    "            plt.savefig('out-pytorch-gan/Epoch-{}.png'.format(str(epoch).zfill(3)), bbox_inches='tight')\n",
    "            c += 1\n",
    "            plt.close(fig)"
   ]
  },
  {
   "cell_type": "code",
   "execution_count": 48,
   "metadata": {
    "collapsed": true
   },
   "outputs": [],
   "source": [
    "import pickle\n",
    "\n",
    "with open(\"./out-pytorch-gan/losses_pickles/genloss.pkl\",\"wb\") as f:\n",
    "    pickle.dump(gen_loss,f)\n",
    "\n",
    "with open(\"./out-pytorch-gan/losses_pickles/disloss.pkl\",\"wb\") as f:\n",
    "    pickle.dump(dis_loss,f)"
   ]
  },
  {
   "cell_type": "code",
   "execution_count": 49,
   "metadata": {
    "collapsed": true
   },
   "outputs": [],
   "source": [
    "import matplotlib.pyplot as plt\n",
    "\n",
    "with open(\"./out-pytorch-gan/losses_pickles/genloss.pkl\",\"rb\") as f:\n",
    "    gen_loss=pickle.load(f)\n",
    "\n",
    "with open(\"./out-pytorch-gan/losses_pickles/disloss.pkl\",\"rb\") as f:\n",
    "    dis_loss=pickle.load(f)"
   ]
  },
  {
   "cell_type": "code",
   "execution_count": 50,
   "metadata": {},
   "outputs": [
    {
     "data": {
      "image/png": "[encoded data removed]",
      "text/plain": [
       "<matplotlib.figure.Figure at 0x7f1a9a030cf8>"
      ]
     },
     "metadata": {},
     "output_type": "display_data"
    }
   ],
   "source": [
    "plt.plot(gen_loss)\n",
    "plt.show()"
   ]
  },
  {
   "cell_type": "code",
   "execution_count": 51,
   "metadata": {},
   "outputs": [
    {
     "data": {
      "image/png": "[encoded data removed]",
      "text/plain": [
       "<matplotlib.figure.Figure at 0x7f1a722c57f0>"
      ]
     },
     "metadata": {},
     "output_type": "display_data"
    }
   ],
   "source": [
    "plt.plot(dis_loss)\n",
    "plt.show()"
   ]
  },
  {
   "cell_type": "code",
   "execution_count": null,
   "metadata": {
    "collapsed": true
   },
   "outputs": [],
   "source": []
  }
 ],
 "metadata": {
  "kernelspec": {
   "display_name": "Python 3",
   "language": "python",
   "name": "python3"
  },
  "language_info": {
   "codemirror_mode": {
    "name": "ipython",
    "version": 3
   },
   "file_extension": ".py",
   "mimetype": "text/x-python",
   "name": "python",
   "nbconvert_exporter": "python",
   "pygments_lexer": "ipython3",
   "version": "3.6.2"
  }
 },
 "nbformat": 4,
 "nbformat_minor": 2
}
