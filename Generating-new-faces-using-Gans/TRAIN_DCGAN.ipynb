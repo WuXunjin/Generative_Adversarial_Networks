{
 "cells": [
  {
   "cell_type": "code",
   "execution_count": 3,
   "metadata": {},
   "outputs": [],
   "source": [
    "#importing some stuff..\n",
    "import os, time, sys\n",
    "import matplotlib.pyplot as plt\n",
    "import itertools\n",
    "import pickle\n",
    "import imageio\n",
    "import torch\n",
    "import torch.nn as nn\n",
    "import torch.nn.functional as F\n",
    "import torch.optim as optim\n",
    "from torchvision import datasets, transforms\n",
    "from torch.autograd import Variable"
   ]
  },
  {
   "cell_type": "code",
   "execution_count": 7,
   "metadata": {},
   "outputs": [
    {
     "name": "stdout",
     "output_type": "stream",
     "text": [
      "==> Preparing data..\n"
     ]
    }
   ],
   "source": [
    "print('==> Preparing data..')\n",
    "\n",
    "\n",
    "img_size = 64\n",
    "#Just performing some transfomations on the image\n",
    "transform_train = transforms.Compose([\n",
    "        transforms.ToTensor(),\n",
    "        transforms.Normalize(mean=(0.5, 0.5, 0.5),\n",
    "                             std=(0.5, 0.5, 0.5))\n",
    "])\n",
    "\n",
    "dataset_dir = 'data/resized'          # Change path according to your machine!\n",
    "dataset = datasets.ImageFolder(dataset_dir, transform_train)\n",
    "# data_loader\n",
    "train_loader = torch.utils.data.DataLoader(dataset, batch_size=128, shuffle=True)\n",
    "temp = plt.imread(train_loader.dataset.imgs[0][0])\n",
    "if (temp.shape[0] != img_size) or (temp.shape[0] != img_size):\n",
    "    print ('Error! image size is not 64 x 64, run \"lfw_preprocess.py\" !!')\n",
    "    sys.exit(1)"
   ]
  },
  {
   "cell_type": "code",
   "execution_count": 34,
   "metadata": {},
   "outputs": [],
   "source": [
    "#Hyper-Parameters--\n",
    "\n",
    "#setting the learning rate\n",
    "lr = 0.0002\n",
    "\n",
    "#Number of samples to take a random distribution from\n",
    "rand_num = 9\n",
    "\n",
    "#Number of epochs\n",
    "num_epoch = 20\n",
    "\n",
    "#select min batch size\n",
    "batch_size = 128\n",
    "\n",
    "#Number of batches per Epoch\n",
    "num_batches = len(train_loader)\n",
    "\n",
    "\n",
    "if not os.path.isdir('LFW_DCGAN_results'):\n",
    "    os.mkdir('LFW_DCGAN_results')"
   ]
  },
  {
   "cell_type": "markdown",
   "metadata": {},
   "source": [
    "# Generator Network!"
   ]
  },
  {
   "cell_type": "code",
   "execution_count": 26,
   "metadata": {},
   "outputs": [],
   "source": [
    "class generator(nn.Module):\n",
    "    def __init__(self, d=128):\n",
    "        super(generator, self).__init__()\n",
    "        self.deconv1 = nn.ConvTranspose2d(100, d*8, 4, 1, 0)\n",
    "        self.deconv1_bn = nn.BatchNorm2d(d*8)\n",
    "        self.deconv2 = nn.ConvTranspose2d(d*8, d*4, 4, 2, 1)\n",
    "        self.deconv2_bn = nn.BatchNorm2d(d*4)\n",
    "        self.deconv3 = nn.ConvTranspose2d(d*4, d*2, 4, 2, 1)\n",
    "        self.deconv3_bn = nn.BatchNorm2d(d*2)\n",
    "        self.deconv4 = nn.ConvTranspose2d(d*2, d, 4, 2, 1)\n",
    "        self.deconv4_bn = nn.BatchNorm2d(d)\n",
    "        self.deconv5 = nn.ConvTranspose2d(d, 3, 4, 2, 1)\n",
    "\n",
    "    \n",
    "    def weight_init(self, mean, std):\n",
    "        for m in self._modules:\n",
    "            normal_init(self._modules[m], mean, std)\n",
    "\n",
    "    # Connecting the layers\n",
    "    def forward(self, input):\n",
    "        x = F.relu(self.deconv1_bn(self.deconv1(input)))\n",
    "        x = F.relu(self.deconv2_bn(self.deconv2(x)))\n",
    "        x = F.relu(self.deconv3_bn(self.deconv3(x)))\n",
    "        x = F.relu(self.deconv4_bn(self.deconv4(x)))\n",
    "        x = F.tanh(self.deconv5(x))\n",
    "\n",
    "        return x\n"
   ]
  },
  {
   "cell_type": "markdown",
   "metadata": {},
   "source": [
    "# Discriminator Network"
   ]
  },
  {
   "cell_type": "code",
   "execution_count": 27,
   "metadata": {},
   "outputs": [],
   "source": [
    "class discriminator(nn.Module):\n",
    "    def __init__(self, d=128):\n",
    "        super(discriminator, self).__init__()\n",
    "        self.conv1 = nn.Conv2d(3, d, 4, 2, 1)\n",
    "        self.conv2 = nn.Conv2d(d, d*2, 4, 2, 1)\n",
    "        self.conv2_bn = nn.BatchNorm2d(d*2)\n",
    "        self.conv3 = nn.Conv2d(d*2, d*4, 4, 2, 1)\n",
    "        self.conv3_bn = nn.BatchNorm2d(d*4)\n",
    "        self.conv4 = nn.Conv2d(d*4, d*8, 4, 2, 1)\n",
    "        self.conv4_bn = nn.BatchNorm2d(d*8)\n",
    "        self.conv5 = nn.Conv2d(d*8, 1, 4, 1, 0)\n",
    "\n",
    "    def weight_init(self, mean, std):\n",
    "        for m in self._modules:\n",
    "            normal_init(self._modules[m], mean, std)\n",
    "\n",
    "    def forward(self, input):\n",
    "        x = F.leaky_relu(self.conv1(input), 0.2)\n",
    "        x = F.leaky_relu(self.conv2_bn(self.conv2(x)), 0.2)\n",
    "        x = F.leaky_relu(self.conv3_bn(self.conv3(x)), 0.2)\n",
    "        x = F.leaky_relu(self.conv4_bn(self.conv4(x)), 0.2)\n",
    "        x = F.sigmoid(self.conv5(x))\n",
    "\n",
    "        return x"
   ]
  },
  {
   "cell_type": "code",
   "execution_count": 28,
   "metadata": {},
   "outputs": [],
   "source": [
    "# network\n",
    "G = generator(128)\n",
    "D = discriminator(128)\n",
    "\n",
    "def normal_init(m, mean, std):\n",
    "    if isinstance(m, nn.ConvTranspose2d) or isinstance(m, nn.Conv2d):\n",
    "        m.weight.data.normal_(mean, std)\n",
    "        m.bias.data.zero_()\n",
    "\n",
    "#Initializing weights\n",
    "G.weight_init(mean=0.0, std=0.02)\n",
    "D.weight_init(mean=0.0, std=0.02)\n",
    "\n",
    "# Binary Cross Entropy loss\n",
    "BCE_loss = nn.BCELoss()\n",
    "\n",
    "# Define optimizers\n",
    "G_optimizer = optim.Adam(G.parameters(), lr=lr, betas=(0.5, 0.999))\n",
    "D_optimizer = optim.Adam(D.parameters(), lr=lr, betas=(0.5, 0.999))\n",
    "\n",
    "\n",
    "\n",
    "fixed_z_ = torch.randn((5 * 5, 100)).view(-1, 100, 1, 1)    #noise\n",
    "fixed_z_ = Variable(fixed_z_, volatile=True)"
   ]
  },
  {
   "cell_type": "code",
   "execution_count": 29,
   "metadata": {},
   "outputs": [],
   "source": [
    "def visualize(num_epoch, path):\n",
    "    \n",
    "    z_ = torch.randn((5*5, 100)).view(-1, 100, 1, 1)\n",
    "    z_ = Variable(z_, volatile=True)\n",
    "\n",
    "    G.eval()\n",
    "    test_images = G(fixed_z_)\n",
    "    G.train()\n",
    "\n",
    "    size_figure_grid = 5\n",
    "    fig, ax = plt.subplots(size_figure_grid, size_figure_grid, figsize=(5, 5))\n",
    "    for i, j in itertools.product(range(size_figure_grid), range(size_figure_grid)):\n",
    "        ax[i, j].get_xaxis().set_visible(False)\n",
    "        ax[i, j].get_yaxis().set_visible(False)\n",
    "\n",
    "    for k in range(5*5):\n",
    "        i = k // 5\n",
    "        j = k % 5\n",
    "        ax[i, j].cla()\n",
    "        ax[i, j].imshow((test_images[k].cpu().data.numpy().transpose(1, 2, 0) + 1) / 2)\n",
    "\n",
    "    label = 'Epoch {0}'.format(num_epoch)\n",
    "    fig.text(0.5, 0.04, label, ha='center')\n",
    "    plt.savefig(path)\n"
   ]
  },
  {
   "cell_type": "code",
   "execution_count": 35,
   "metadata": {},
   "outputs": [
    {
     "name": "stdout",
     "output_type": "stream",
     "text": [
      "Training..\n",
      "[1/20] - loss_d: 0.146, loss_g: 7.503\n",
      "[2/20] - loss_d: 0.330, loss_g: 8.765\n",
      "[3/20] - loss_d: 0.182, loss_g: 8.815\n",
      "[4/20] - loss_d: 0.167, loss_g: 9.085\n",
      "[5/20] - loss_d: 0.082, loss_g: 8.060\n",
      "[6/20] - loss_d: 0.133, loss_g: 10.367\n",
      "[7/20] - loss_d: 0.040, loss_g: 9.163\n",
      "[8/20] - loss_d: 0.095, loss_g: 10.032\n",
      "[9/20] - loss_d: 0.049, loss_g: 9.562\n",
      "[10/20] - loss_d: 0.099, loss_g: 12.124\n",
      "[11/20] - loss_d: 0.033, loss_g: 10.301\n",
      "[12/20] - loss_d: 0.090, loss_g: 12.472\n",
      "[13/20] - loss_d: 0.026, loss_g: 10.734\n",
      "[14/20] - loss_d: 0.073, loss_g: 12.554\n",
      "[15/20] - loss_d: 0.027, loss_g: 10.811\n",
      "[16/20] - loss_d: 0.064, loss_g: 12.977\n",
      "[17/20] - loss_d: 0.022, loss_g: 11.102\n",
      "[18/20] - loss_d: 0.058, loss_g: 13.241\n",
      "[19/20] - loss_d: 0.019, loss_g: 10.907\n",
      "[20/20] - loss_d: 0.131, loss_g: 20.500\n"
     ]
    },
    {
     "name": "stderr",
     "output_type": "stream",
     "text": [
      "/usr/lib/python2.7/dist-packages/matplotlib/pyplot.py:516: RuntimeWarning: More than 20 figures have been opened. Figures created through the pyplot interface (`matplotlib.pyplot.figure`) are retained until explicitly closed and may consume too much memory. (To control this warning, see the rcParam `figure.max_open_warning`).\n",
      "  max_open_warning, RuntimeWarning)\n"
     ]
    }
   ],
   "source": [
    "train_hist = {}\n",
    "train_hist['D_losses'] = []                                #storing losses for each batch\n",
    "train_hist['G_losses'] = []\n",
    "\n",
    "print('Training..')\n",
    "\n",
    "for epoch in range(num_epoch):\n",
    "    D_losses = []                                           #storing losses for each batch\n",
    "    G_losses = []\n",
    "    \n",
    "    num_iter = 0\n",
    "    for images, _ in train_loader:\n",
    "    \n",
    "        mini_batch = images.size()[0]\n",
    "        labels_real = Variable(torch.ones(mini_batch))       # Labels for real images - all ones\n",
    "        labels_fake = Variable(torch.zeros(mini_batch))      # Labels for fake images - all zeros\n",
    "\n",
    "        images = Variable(images)\n",
    "        \n",
    "        # Train the discriminator, it tries to discriminate between real and fake samples\n",
    "        D.zero_grad()\n",
    "        D_result = D(images).squeeze()\n",
    "        D_real_loss = BCE_loss(D_result, labels_real)\n",
    "\n",
    "        z_ = Variable(torch.randn((mini_batch, 100)).view(-1, 100, 1, 1))\n",
    "        G_result = G(z_)\n",
    " \n",
    "        D_result = D(G_result).squeeze()\n",
    "        D_fake_loss = BCE_loss(D_result, labels_fake)\n",
    "        D_fake_score = D_result.data.mean()\n",
    "\n",
    "        D_train_loss = D_real_loss + D_fake_loss        # Calculate the total loss\n",
    "\n",
    "        D_train_loss.backward()                         #Backpropagation\n",
    "        D_optimizer.step()                              #Update the weights\n",
    "\n",
    "        D_losses.append(D_train_loss.data[0])\n",
    "\n",
    "        # Train the generator, it tries to fool the discriminator\n",
    "        G.zero_grad()\n",
    "        \n",
    "        # Draw samples from the input distribution and pass to generator\n",
    "        z_ = Variable(torch.randn((mini_batch, 100)).view(-1, 100, 1, 1))\n",
    "        \n",
    "        G_result = G(z_)\n",
    "        D_result = D(G_result).squeeze()\n",
    "        G_train_loss = BCE_loss(D_result, labels_real)\n",
    "        G_train_loss.backward()\n",
    "        G_optimizer.step()\n",
    "\n",
    "        G_losses.append(G_train_loss.data[0])\n",
    "\n",
    "        num_iter += 1\n",
    "\n",
    "\n",
    "    print('[%d/%d] - loss_d: %.3f, loss_g: %.3f' % ((epoch + 1), num_epoch, torch.mean(torch.FloatTensor(D_losses)),\n",
    "                                                              torch.mean(torch.FloatTensor(G_losses))))\n",
    "    p = 'LFW_DCGAN_results/LFW_DCGAN_' + str(epoch + 1) + '.png'\n",
    "    visualize((epoch+1), path=p)\n",
    "    train_hist['D_losses'].append(torch.mean(torch.FloatTensor(D_losses)))\n",
    "    train_hist['G_losses'].append(torch.mean(torch.FloatTensor(G_losses)))\n",
    "    \n"
   ]
  },
  {
   "cell_type": "code",
   "execution_count": 36,
   "metadata": {},
   "outputs": [],
   "source": [
    "import pickle\n",
    "with open(\"LFW_DCGAN_results/genloss.pkl\",\"wb\") as f:\n",
    "    pickle.dump(train_hist['G_losses'],f)"
   ]
  },
  {
   "cell_type": "code",
   "execution_count": 37,
   "metadata": {},
   "outputs": [],
   "source": [
    "with open(\"LFW_DCGAN_results/disloss.pkl\",\"wb\") as f:\n",
    "    pickle.dump(train_hist['D_losses'],f)"
   ]
  },
  {
   "cell_type": "code",
   "execution_count": 14,
   "metadata": {},
   "outputs": [
    {
     "data": {
      "image/png": "[encoded data removed]",
      "text/plain": [
       "<matplotlib.figure.Figure at 0x7f6f2d3436d0>"
      ]
     },
     "metadata": {},
     "output_type": "display_data"
    }
   ],
   "source": [
    "plt.plot(train_hist['G_losses'])\n",
    "plt.title('Generator Loss')\n",
    "plt.show()"
   ]
  },
  {
   "cell_type": "code",
   "execution_count": 9,
   "metadata": {},
   "outputs": [
    {
     "data": {
      "image/png": "[encoded data removed]",
      "text/plain": [
       "<matplotlib.figure.Figure at 0x7f6f7c55d6d0>"
      ]
     },
     "metadata": {},
     "output_type": "display_data"
    }
   ],
   "source": [
    "plt.plot(train_hist['D_losses'])\n",
    "plt.title('Discriminator Loss')\n",
    "plt.show()"
   ]
  },
  {
   "cell_type": "markdown",
   "metadata": {},
   "source": []
  },
  {
   "cell_type": "markdown",
   "metadata": {},
   "source": []
  }
 ],
 "metadata": {
  "kernelspec": {
   "display_name": "Python 2",
   "language": "python",
   "name": "python2"
  },
  "language_info": {
   "codemirror_mode": {
    "name": "ipython",
    "version": 2
   },
   "file_extension": ".py",
   "mimetype": "text/x-python",
   "name": "python",
   "nbconvert_exporter": "python",
   "pygments_lexer": "ipython2",
   "version": "2.7.12"
  }
 },
 "nbformat": 4,
 "nbformat_minor": 2
}
